{
 "cells": [
  {
   "cell_type": "code",
   "execution_count": 3,
   "metadata": {},
   "outputs": [],
   "source": [
    "###### Input a value/string using input()"
   ]
  },
  {
   "cell_type": "code",
   "execution_count": 2,
   "metadata": {},
   "outputs": [
    {
     "name": "stdout",
     "output_type": "stream",
     "text": [
      "Enter your nameNaser\n",
      "Hello Naser\n"
     ]
    }
   ],
   "source": [
    "name = input(\"Enter your name\")\n",
    "print(\"Hello\",name)"
   ]
  },
  {
   "cell_type": "code",
   "execution_count": null,
   "metadata": {},
   "outputs": [],
   "source": [
    "###### Define function"
   ]
  },
  {
   "cell_type": "code",
   "execution_count": 4,
   "metadata": {},
   "outputs": [
    {
     "name": "stdout",
     "output_type": "stream",
     "text": [
      "Hello , Mr. Sarker\n"
     ]
    }
   ],
   "source": [
    "def hello_fun(greeting, name='you'):\n",
    "    return ('{},{}'.format(greeting,name))  \n",
    "print(hello_fun('Hello ',name=' Mr. Sarker'))"
   ]
  },
  {
   "cell_type": "code",
   "execution_count": 7,
   "metadata": {},
   "outputs": [],
   "source": [
    "##### insert, append, extend, remove, pop, reverse"
   ]
  },
  {
   "cell_type": "code",
   "execution_count": 6,
   "metadata": {},
   "outputs": [
    {
     "name": "stdout",
     "output_type": "stream",
     "text": [
      "Phy\n",
      "['Bio', 'Phy', 'Che', 'Math']\n",
      "['Bio', 'Phy', 'Che', 'Math', 'Eng']\n",
      "['Bio', 'Phy', 'Che', 'Math', 'Eng', 'Higher Math', 'Eng. Drowing']\n",
      "['Bio', 'Phy', 'Che', 'Math', 'Eng', 'Eng. Drowing']\n",
      "Eng. Drowing\n",
      "['Bio', 'Phy', 'Che', 'Math', 'Eng']\n",
      "['Eng', 'Math', 'Che', 'Phy', 'Bio']\n"
     ]
    }
   ],
   "source": [
    "courses = ['Phy','Che','Math']\n",
    "\n",
    "print(courses[0])\n",
    "\n",
    "courses.insert(0,'Bio')   # insert\n",
    "print(courses)\n",
    "\n",
    "courses.append('Eng')     # append\n",
    "print(courses)\n",
    "\n",
    "courseOpt = ['Higher Math', 'Eng. Drowing']\n",
    "courses.extend(courseOpt) # Extend 'Higher Math', 'Eng. Drowing'\n",
    "print(courses)\n",
    "\n",
    "courses.remove('Higher Math')    # Remove Higher Math\n",
    "print(courses)\n",
    "\n",
    "popped =courses.pop()   # pop will remove the last value of our list\n",
    "print(popped)\n",
    "print(courses)\n",
    "\n",
    "courses.reverse()       #Reverse\n",
    "print(courses)"
   ]
  },
  {
   "cell_type": "code",
   "execution_count": 9,
   "metadata": {},
   "outputs": [],
   "source": [
    "#### join, split, in, index"
   ]
  },
  {
   "cell_type": "code",
   "execution_count": 10,
   "metadata": {},
   "outputs": [
    {
     "name": "stdout",
     "output_type": "stream",
     "text": [
      "Phy-Che-Math\n",
      "['Phy', 'Che', 'Math']\n",
      "True\n",
      "2\n"
     ]
    }
   ],
   "source": [
    "courses = ['Phy','Che','Math']\n",
    "courses_string = '-'.join(courses)  # join method\n",
    "print(courses_string) \n",
    "\n",
    "new_courses = courses_string.split('-')  # split method\n",
    "print(new_courses) \n",
    "#---------------------------------------------\n",
    "print('Math' in courses)           # in\n",
    "print(courses.index('Math'))       # index"
   ]
  },
  {
   "cell_type": "code",
   "execution_count": 11,
   "metadata": {},
   "outputs": [],
   "source": [
    "### sort, sorted, min, max, sum"
   ]
  },
  {
   "cell_type": "code",
   "execution_count": 12,
   "metadata": {},
   "outputs": [
    {
     "name": "stdout",
     "output_type": "stream",
     "text": [
      "[1, 4, 5, 8, 9]\n",
      "[1, 4, 5, 8, 9]\n",
      "[9, 8, 5, 4, 1]\n",
      "1\n",
      "9\n",
      "27\n"
     ]
    }
   ],
   "source": [
    "nums = [1,8,5,4,9]\n",
    "\n",
    "nums.sort()         # sort method\n",
    "print(nums)\n",
    "\n",
    "sorted_nums =sorted(nums)  # sorted method\n",
    "print(sorted_nums)\n",
    "\n",
    "nums.sort(reverse = True)         # sort + reverse method\n",
    "print(nums)\n",
    "\n",
    "print(min(nums))\n",
    "print(max(nums))\n",
    "print(sum(nums))"
   ]
  },
  {
   "cell_type": "code",
   "execution_count": 13,
   "metadata": {},
   "outputs": [],
   "source": [
    "## intersection, difference, union"
   ]
  },
  {
   "cell_type": "code",
   "execution_count": 14,
   "metadata": {},
   "outputs": [
    {
     "name": "stdout",
     "output_type": "stream",
     "text": [
      "{'Math', 'Eng'}\n",
      "{'Phy', 'Che'}\n",
      "{'Sco', 'Phy', 'Math', 'Eng', 'Che', 'His'}\n"
     ]
    }
   ],
   "source": [
    "sci_courses = {'Eng','Phy','Math','Che'}\n",
    "arts_courses = {'Eng','His','Math','Sco'}\n",
    "print(sci_courses.intersection(arts_courses)) \n",
    "print(sci_courses.difference(arts_courses))\n",
    "print(sci_courses.union(arts_courses))"
   ]
  },
  {
   "cell_type": "code",
   "execution_count": 16,
   "metadata": {},
   "outputs": [],
   "source": [
    "## for loop"
   ]
  },
  {
   "cell_type": "code",
   "execution_count": 15,
   "metadata": {},
   "outputs": [
    {
     "name": "stdout",
     "output_type": "stream",
     "text": [
      "Phy\n",
      "Math\n",
      "Che\n",
      "Eng\n",
      "0 Phy\n",
      "1 Math\n",
      "2 Che\n",
      "3 Eng\n"
     ]
    }
   ],
   "source": [
    "courses = {'Eng','Phy','Math','Che'}\n",
    "for item in courses:\n",
    "    print(item)\n",
    "#---------------------------------------------    \n",
    "for indx, item in enumerate(courses, start=0):\n",
    "    print(indx, item)"
   ]
  },
  {
   "cell_type": "code",
   "execution_count": 20,
   "metadata": {},
   "outputs": [],
   "source": [
    "###### numpy and  matplotlib"
   ]
  },
  {
   "cell_type": "code",
   "execution_count": 19,
   "metadata": {},
   "outputs": [
    {
     "data": {
      "image/png": "[encoded data removed]",
      "text/plain": [
       "<Figure size 432x288 with 1 Axes>"
      ]
     },
     "metadata": {
      "needs_background": "light"
     },
     "output_type": "display_data"
    }
   ],
   "source": [
    "import numpy as np\n",
    "import matplotlib.pyplot as plt\n",
    "\n",
    "# evenly sampled time at 200ms intervals\n",
    "t = np.arange(0., 5., 0.2)\n",
    "\n",
    "# red dashes, blue squares and green triangles\n",
    "plt.plot(t, t, 'r--', t, t**2, 'bs', t, t**3, 'g^')\n",
    "plt.show()"
   ]
  },
  {
   "cell_type": "code",
   "execution_count": null,
   "metadata": {},
   "outputs": [],
   "source": []
  }
 ],
 "metadata": {
  "kernelspec": {
   "display_name": "Python 3",
   "language": "python",
   "name": "python3"
  },
  "language_info": {
   "codemirror_mode": {
    "name": "ipython",
    "version": 3
   },
   "file_extension": ".py",
   "mimetype": "text/x-python",
   "name": "python",
   "nbconvert_exporter": "python",
   "pygments_lexer": "ipython3",
   "version": "3.7.3"
  }
 },
 "nbformat": 4,
 "nbformat_minor": 2
}
